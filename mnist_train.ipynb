{
 "cells": [
  {
   "cell_type": "markdown",
   "metadata": {},
   "source": [
    "## Load and Visualize dataset"
   ]
  },
  {
   "cell_type": "code",
   "execution_count": 1,
   "metadata": {},
   "outputs": [
    {
     "data": {
      "image/png": "[encoded data removed]",
      "text/plain": [
       "<Figure size 640x480 with 1 Axes>"
      ]
     },
     "metadata": {},
     "output_type": "display_data"
    }
   ],
   "source": [
    "import numpy as np\n",
    "import matplotlib.pyplot as plt\n",
    "\n",
    "with np.load('mnist_files/mnist_all.npz') as data:\n",
    "    train_X = data['train_X']\n",
    "    test_X = data['test_X']\n",
    "    train_Y = data['train_Y']\n",
    "    test_Y = data['test_Y']    \n",
    "\n",
    "plt.imshow(train_X[np.random.randint(60000)], cmap=plt.get_cmap('gray'))\n",
    "plt.show()"
   ]
  },
  {
   "cell_type": "markdown",
   "metadata": {},
   "source": [
    "## Reshape Image data"
   ]
  },
  {
   "cell_type": "code",
   "execution_count": 2,
   "metadata": {},
   "outputs": [],
   "source": [
    "train_X = np.reshape(train_X, (train_X.shape[0], -1)).T\n",
    "test_X = np.reshape(test_X, (test_X.shape[0], -1)).T"
   ]
  },
  {
   "cell_type": "code",
   "execution_count": 3,
   "metadata": {},
   "outputs": [
    {
     "data": {
      "text/plain": [
       "(784, 60000)"
      ]
     },
     "execution_count": 3,
     "metadata": {},
     "output_type": "execute_result"
    }
   ],
   "source": [
    "train_X.shape"
   ]
  },
  {
   "cell_type": "code",
   "execution_count": 4,
   "metadata": {},
   "outputs": [
    {
     "data": {
      "text/plain": [
       "(784, 10000)"
      ]
     },
     "execution_count": 4,
     "metadata": {},
     "output_type": "execute_result"
    }
   ],
   "source": [
    "test_X.shape"
   ]
  },
  {
   "cell_type": "markdown",
   "metadata": {},
   "source": [
    "## Add bias (offset) term to data"
   ]
  },
  {
   "cell_type": "code",
   "execution_count": 5,
   "metadata": {},
   "outputs": [],
   "source": [
    "train_bias = np.ones((1, train_X.shape[1]))\n",
    "test_bias = np.ones((1, test_X.shape[1]))\n",
    "train_X = np.vstack((train_X, train_bias))\n",
    "test_X = np.vstack((test_X, test_bias))"
   ]
  },
  {
   "cell_type": "code",
   "execution_count": 6,
   "metadata": {},
   "outputs": [
    {
     "data": {
      "text/plain": [
       "(785, 60000)"
      ]
     },
     "execution_count": 6,
     "metadata": {},
     "output_type": "execute_result"
    }
   ],
   "source": [
    "train_X.shape"
   ]
  },
  {
   "cell_type": "code",
   "execution_count": 7,
   "metadata": {},
   "outputs": [
    {
     "data": {
      "text/plain": [
       "(785, 10000)"
      ]
     },
     "execution_count": 7,
     "metadata": {},
     "output_type": "execute_result"
    }
   ],
   "source": [
    "test_X.shape"
   ]
  },
  {
   "cell_type": "markdown",
   "metadata": {},
   "source": [
    "## Convert Labels to One hot vectors"
   ]
  },
  {
   "cell_type": "code",
   "execution_count": 8,
   "metadata": {},
   "outputs": [],
   "source": [
    "one_hot_train = np.zeros((10, train_Y.shape[0]))\n",
    "one_hot_test = np.zeros((10, test_Y.shape[0]))"
   ]
  },
  {
   "cell_type": "code",
   "execution_count": 9,
   "metadata": {},
   "outputs": [],
   "source": [
    "for i, label in enumerate(train_Y):\n",
    "    one_hot_train[label, i] = 1\n",
    "\n",
    "for i, label in enumerate(test_Y):\n",
    "    one_hot_test[label, i] = 1"
   ]
  },
  {
   "cell_type": "code",
   "execution_count": 10,
   "metadata": {},
   "outputs": [
    {
     "data": {
      "text/plain": [
       "(10, 60000)"
      ]
     },
     "execution_count": 10,
     "metadata": {},
     "output_type": "execute_result"
    }
   ],
   "source": [
    "one_hot_train.shape"
   ]
  },
  {
   "cell_type": "code",
   "execution_count": 11,
   "metadata": {},
   "outputs": [
    {
     "data": {
      "text/plain": [
       "(10, 10000)"
      ]
     },
     "execution_count": 11,
     "metadata": {},
     "output_type": "execute_result"
    }
   ],
   "source": [
    "one_hot_test.shape"
   ]
  },
  {
   "cell_type": "markdown",
   "metadata": {},
   "source": [
    "## Dimensionality"
   ]
  },
  {
   "cell_type": "markdown",
   "metadata": {},
   "source": [
    "#### $$\\hat{x} = (785,1) $$\n",
    "#### $$\\hat{y} = (10,1) $$\n",
    "#### $$W_1 = (p, 785) $$\n",
    "#### $$W_2 = (10, p) $$\n",
    "#### $$z = (p, 1) $$\n",
    "#### $$a = (p, 1) $$\n",
    "#### Where, $p = $ Hidden Dimension size"
   ]
  },
  {
   "cell_type": "markdown",
   "metadata": {},
   "source": [
    "## Gradients"
   ]
  },
  {
   "cell_type": "markdown",
   "metadata": {},
   "source": [
    "#### $$ \\nabla_{W_1} \\mathcal{L} = \\frac{1}{M}\\sum_{m=1}^{M} (\\hat{y_m} - y_m)z_m^{T}$$\n",
    "#### $$ \\nabla_{W_2} \\mathcal{L} = \\frac{1}{M}\\sum_{m=1}^{M} [(\\hat{y_m} - y_m)^{T}W_2D_\\phi(W_1x_m)]^{T}x_m^{T}$$\n",
    "\n",
    "#### Where, $$D_\\phi(W_1x_m) = (1-\\sigma{(a)}) \\cdot \\sigma{(a)}$$"
   ]
  },
  {
   "cell_type": "markdown",
   "metadata": {},
   "source": [
    "## Helper Functions"
   ]
  },
  {
   "cell_type": "code",
   "execution_count": null,
   "metadata": {},
   "outputs": [],
   "source": [
    "def sigmoid(x):\n",
    "    transform = np.where(\n",
    "        x>=0,\n",
    "        1 / (1 + np.exp(-x)),\n",
    "        np.exp(x) / (np.exp(x) + 1)\n",
    "    )\n",
    "    \n",
    "    return transform\n",
    "\n",
    "def softargmax(V):\n",
    "    exp_v = np.exp(V)\n",
    "    out = np.reciprocal(np.sum(exp_v, axis=0)) * exp_v\n",
    "    return out\n",
    "\n",
    "def loss(Y, Y_hat):\n",
    "    #Y and Y_hat are matrices with one\n",
    "    #column for every data point\n",
    "    log_yhat = np.log(Y_hat + 1e-9) #avoid error with np.log(0)\n",
    "    mult_term = np.multiply(Y, log_yhat)\n",
    "    cross_entropy = -(np.mean(np.sum(mult_term, axis=0)))\n",
    "    return cross_entropy\n",
    "\n",
    "def feed_forward(x,w1,w2):\n",
    "    a=w1 @ x #(p, m)(m, 1) = (p, 1)\n",
    "    z=sigmoid(a) #(p, 1) -> (p, 1)\n",
    "    Yhat=softargmax(w2@z) #(out_size, p)(p, 1) = (out_size, 1)\n",
    "    return (Yhat,a,z)\n",
    "\n",
    "def sigmoid_derivative(z):\n",
    "    out = (1 - z) * z\n",
    "    return out\n",
    "\n",
    "def back_propagate(x,y,w2,z,yhat,m):\n",
    "    #(10, p) = (10, N)(N, p)\n",
    "    dL_dw2 = ((yhat-y) @ z.T) / m\n",
    "    #(p,N) = (p,N)\n",
    "    dz_da = sigmoid_derivative(z)\n",
    "    #(p, N) = (p, 10)(10,N)\n",
    "    dL_dz = (w2.T @ (yhat-y)) / m\n",
    "    #(p, N) = (p, N)*(p, N)\n",
    "    dL_da = dL_dz * dz_da\n",
    "    #(785, N)\n",
    "    da_dw1 = x\n",
    "    #(p,785) = (p, N)(N, 785)\n",
    "    dL_dw1 = dL_da @ da_dw1.T\n",
    "    \n",
    "    return (dL_dw1, dL_dw2)\n",
    "\n",
    "def check_accuracy(x,y,w1,w2):\n",
    "    #Returns the fraction of correctly classified \n",
    "    #images when using weights W1 and W2\n",
    "\n",
    "    preds = softargmax(w2 @ sigmoid(w1@x))\n",
    "    pred_classes = np.argmax(preds, axis=0)\n",
    "    true_classes = np.argmax(y, axis=0)\n",
    "    correct = np.sum(pred_classes == true_classes)\n",
    "    percent_correct = correct / true_classes.shape[0]\n",
    "    return percent_correct"
   ]
  },
  {
   "cell_type": "markdown",
   "metadata": {},
   "source": [
    "## Randomly Initialize Weights"
   ]
  },
  {
   "cell_type": "code",
   "execution_count": 57,
   "metadata": {},
   "outputs": [],
   "source": [
    "#hidden dim size\n",
    "p = 35\n",
    "\n",
    "#Initialize weights\n",
    "w1 = np.random.normal(0, 0.6, size=(p, 785))\n",
    "w2 = np.random.normal(0, 0.6, size=(10, p))"
   ]
  },
  {
   "cell_type": "markdown",
   "metadata": {},
   "source": [
    "## Initial Accuracy"
   ]
  },
  {
   "cell_type": "code",
   "execution_count": 58,
   "metadata": {},
   "outputs": [
    {
     "name": "stdout",
     "output_type": "stream",
     "text": [
      "Initial accuracy on training data:  0.09028333333333333\n",
      "Initial accuracy on test data:  0.0867\n"
     ]
    }
   ],
   "source": [
    "print('Initial accuracy on training data: ',\n",
    " check_accuracy(train_X,one_hot_train,w1,w2)\n",
    ")\n",
    "print('Initial accuracy on test data: ',\n",
    " check_accuracy(test_X,one_hot_test,w1,w2)\n",
    ")"
   ]
  },
  {
   "cell_type": "markdown",
   "metadata": {},
   "source": [
    "## Training Loop"
   ]
  },
  {
   "cell_type": "markdown",
   "metadata": {},
   "source": [
    "#### Define parameters"
   ]
  },
  {
   "cell_type": "code",
   "execution_count": 61,
   "metadata": {},
   "outputs": [],
   "source": [
    "alpha = .1\n",
    "batch_size = 100\n",
    "num_batches = int(train_X.shape[1]/batch_size)\n",
    "epochs = 30"
   ]
  },
  {
   "cell_type": "code",
   "execution_count": 60,
   "metadata": {},
   "outputs": [],
   "source": [
    "def shuffle_data(train_X, train_Y):\n",
    "    shuffle_index = np.arange(train_X.shape[1])\n",
    "    np.random.shuffle(shuffle_index)\n",
    "    \n",
    "    return train_X.T[shuffle_index].T, train_Y.T[shuffle_index].T"
   ]
  },
  {
   "cell_type": "code",
   "execution_count": 62,
   "metadata": {},
   "outputs": [
    {
     "name": "stdout",
     "output_type": "stream",
     "text": [
      "Epoch 0 - Loss: 0.8143926624502272, Accuracy: 0.7573\n",
      "Epoch 1 - Loss: 0.5100124037472871, Accuracy: 0.827\n",
      "Epoch 2 - Loss: 0.5143121446052796, Accuracy: 0.8558\n",
      "Epoch 3 - Loss: 0.48321402499760013, Accuracy: 0.8694\n",
      "Epoch 4 - Loss: 0.4882748212473087, Accuracy: 0.8778\n",
      "Epoch 5 - Loss: 0.5771436471853552, Accuracy: 0.8854\n",
      "Epoch 6 - Loss: 0.3815821123366755, Accuracy: 0.8895\n",
      "Epoch 7 - Loss: 0.38722059877491205, Accuracy: 0.8949\n",
      "Epoch 8 - Loss: 0.3447509921951849, Accuracy: 0.8982\n",
      "Epoch 9 - Loss: 0.33982131468452503, Accuracy: 0.9028\n",
      "Epoch 10 - Loss: 0.266131261365916, Accuracy: 0.9048\n",
      "Epoch 11 - Loss: 0.4001994688186388, Accuracy: 0.9075\n",
      "Epoch 12 - Loss: 0.2810675672771683, Accuracy: 0.9097\n",
      "Epoch 13 - Loss: 0.3495603877753636, Accuracy: 0.9116\n",
      "Epoch 14 - Loss: 0.26562150996393596, Accuracy: 0.9134\n",
      "Epoch 15 - Loss: 0.24775044912662497, Accuracy: 0.9147\n",
      "Epoch 16 - Loss: 0.20627286702265868, Accuracy: 0.9168\n",
      "Epoch 17 - Loss: 0.2973350857218098, Accuracy: 0.9176\n",
      "Epoch 18 - Loss: 0.2995503550419521, Accuracy: 0.9189\n",
      "Epoch 19 - Loss: 0.24844885692118862, Accuracy: 0.9203\n",
      "Epoch 20 - Loss: 0.2689345166108468, Accuracy: 0.9218\n",
      "Epoch 21 - Loss: 0.28240552508021666, Accuracy: 0.9232\n",
      "Epoch 22 - Loss: 0.15740945522120153, Accuracy: 0.9235\n",
      "Epoch 23 - Loss: 0.15802868547299506, Accuracy: 0.9258\n",
      "Epoch 24 - Loss: 0.3145464613015714, Accuracy: 0.9263\n",
      "Epoch 25 - Loss: 0.2759060567133705, Accuracy: 0.9272\n",
      "Epoch 26 - Loss: 0.2450004938436729, Accuracy: 0.9278\n",
      "Epoch 27 - Loss: 0.16310697639802677, Accuracy: 0.928\n",
      "Epoch 28 - Loss: 0.0968783429809267, Accuracy: 0.929\n",
      "Epoch 29 - Loss: 0.21849946580348892, Accuracy: 0.929\n"
     ]
    }
   ],
   "source": [
    "epoch_loss = []\n",
    "epoch_accuracy = []\n",
    "\n",
    "for epoch in range(epochs):\n",
    "    #shuffle data\n",
    "    train_X, one_hot_train = shuffle_data(train_X, one_hot_train)\n",
    "\n",
    "    for b in range(num_batches):\n",
    "        batch_begin = b*batch_size\n",
    "        batch_end = b*batch_size + batch_size\n",
    "\n",
    "        batch_x = train_X[:, batch_begin:batch_end]\n",
    "        batch_y = one_hot_train[:, batch_begin:batch_end]\n",
    "\n",
    "        #Forward propagate\n",
    "        yhat, a, z = feed_forward(batch_x, w1, w2)\n",
    "\n",
    "        #backpropagate\n",
    "        dL_dw1, dL_dw2 = back_propagate(\n",
    "            batch_x,\n",
    "            batch_y,\n",
    "            w2,\n",
    "            z,\n",
    "            yhat,\n",
    "            batch_size\n",
    "        )\n",
    "\n",
    "        #Update weights\n",
    "        w1 = w1 - (alpha * dL_dw1)\n",
    "        w2 = w2 - (alpha * dL_dw2)\n",
    "\n",
    "    ce_loss = loss(batch_y, yhat)\n",
    "    epoch_loss.append(ce_loss)\n",
    "    \n",
    "    accuracy = check_accuracy(test_X, one_hot_test, w1, w2)\n",
    "    epoch_accuracy.append(accuracy)\n",
    "\n",
    "    print(f'Epoch {epoch} - Loss: {ce_loss}, Accuracy: {accuracy}')"
   ]
  },
  {
   "cell_type": "code",
   "execution_count": 63,
   "metadata": {},
   "outputs": [
    {
     "data": {
      "text/plain": [
       "Text(0.5, 1.0, 'Training Loss and Test Accuracy')"
      ]
     },
     "execution_count": 63,
     "metadata": {},
     "output_type": "execute_result"
    },
    {
     "data": {
      "image/png": "[encoded data removed]",
      "text/plain": [
       "<Figure size 1000x1000 with 1 Axes>"
      ]
     },
     "metadata": {},
     "output_type": "display_data"
    }
   ],
   "source": [
    "fig = plt.figure(figsize=(10,10))\n",
    "xaxis = np.arange(epochs)\n",
    "plt.plot(xaxis, epoch_loss, color='blue', label='Cross Entropy Loss')\n",
    "plt.plot(xaxis, epoch_accuracy, color='orange', label='Accuracy')\n",
    "plt.legend(loc='upper right')\n",
    "plt.title('Training Loss and Test Accuracy')"
   ]
  }
 ],
 "metadata": {
  "kernelspec": {
   "display_name": "ece_opt",
   "language": "python",
   "name": "ece_opt"
  },
  "language_info": {
   "codemirror_mode": {
    "name": "ipython",
    "version": 3
   },
   "file_extension": ".py",
   "mimetype": "text/x-python",
   "name": "python",
   "nbconvert_exporter": "python",
   "pygments_lexer": "ipython3",
   "version": "3.10.4 (main, Mar 31 2022, 03:38:35) [Clang 12.0.0 ]"
  },
  "orig_nbformat": 4,
  "vscode": {
   "interpreter": {
    "hash": "d41d051112c258a5a62895444e57d3af0a84dda4e53e4a00b4d37bb6d191d658"
   }
  }
 },
 "nbformat": 4,
 "nbformat_minor": 2
}
